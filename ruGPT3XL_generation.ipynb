{
  "nbformat": 4,
  "nbformat_minor": 0,
  "metadata": {
    "kernelspec": {
      "display_name": "Python 3",
      "language": "python",
      "name": "python3"
    },
    "language_info": {
      "codemirror_mode": {
        "name": "ipython",
        "version": 3
      },
      "file_extension": ".py",
      "mimetype": "text/x-python",
      "name": "python",
      "nbconvert_exporter": "python",
      "pygments_lexer": "ipython3",
      "version": "3.7.8"
    },
    "colab": {
      "name": "ruGPT3XL_generation",
      "provenance": [],
      "collapsed_sections": []
    },
    "accelerator": "GPU"
  },
  "cells": [
    {
      "cell_type": "markdown",
      "metadata": {
        "id": "48rlaBLWT937"
      },
      "source": [
        "# Установка"
      ]
    },
    {
      "cell_type": "markdown",
      "metadata": {
        "id": "1FAUOkK9UxWY"
      },
      "source": [
        "Для установки - запустите все команды из раздела \"Установка\"\r\n",
        "\r\n",
        "Также установку нужно запускать после старта/рестарта блокнота"
      ]
    },
    {
      "cell_type": "code",
      "metadata": {
        "id": "oBo7DVx96oxb"
      },
      "source": [
        "from google.colab import drive\r\n",
        "drive.mount('/content/drive') \r\n",
        "%cd /content/drive/My\\ Drive/\r\n",
        "!mkdir ru-gpts\r\n",
        "%cd ru-gpts/"
      ],
      "execution_count": null,
      "outputs": []
    },
    {
      "cell_type": "code",
      "metadata": {
        "id": "j8HHWvGQZ4tY"
      },
      "source": [
        "%%writefile setup.sh\r\n",
        "\r\n",
        "export CUDA_HOME=/usr/local/cuda-10.1\r\n",
        "git clone https://github.com/NVIDIA/apex\r\n",
        "pip install -v --no-cache-dir --global-option=\"--cpp_ext\" --global-option=\"--cuda_ext\" ./apex"
      ],
      "execution_count": null,
      "outputs": []
    },
    {
      "cell_type": "code",
      "metadata": {
        "id": "LliyeWgtHVSc"
      },
      "source": [
        "!sh setup.sh"
      ],
      "execution_count": null,
      "outputs": []
    },
    {
      "cell_type": "code",
      "metadata": {
        "id": "gOvIFEqlJP0i"
      },
      "source": [
        "!apt-get install llvm-9-dev"
      ],
      "execution_count": null,
      "outputs": []
    },
    {
      "cell_type": "code",
      "metadata": {
        "id": "2TM0vVizJdH1"
      },
      "source": [
        "!pip install cpufeature"
      ],
      "execution_count": null,
      "outputs": []
    },
    {
      "cell_type": "code",
      "metadata": {
        "id": "BY-htlDzJgvN"
      },
      "source": [
        "!pip install triton==0.2.3"
      ],
      "execution_count": null,
      "outputs": []
    },
    {
      "cell_type": "code",
      "metadata": {
        "id": "jN-hk0TvJ3Rz"
      },
      "source": [
        "!DS_BUILD_CPU_ADAM=1 DS_BUILD_SPARSE_ATTN=1 pip install deepspeed==0.3.7"
      ],
      "execution_count": null,
      "outputs": []
    },
    {
      "cell_type": "code",
      "metadata": {
        "id": "g6Ne6v0XKHKc"
      },
      "source": [
        "!ds_report"
      ],
      "execution_count": null,
      "outputs": []
    },
    {
      "cell_type": "code",
      "metadata": {
        "id": "ycU1UUOfKLdi"
      },
      "source": [
        "import deepspeed.ops.sparse_attention.sparse_attn_op"
      ],
      "execution_count": 9,
      "outputs": []
    },
    {
      "cell_type": "code",
      "metadata": {
        "id": "j5R0_GtgKRXq"
      },
      "source": [
        "!git clone https://github.com/nevstas/ru-gpts.git"
      ],
      "execution_count": null,
      "outputs": []
    },
    {
      "cell_type": "code",
      "metadata": {
        "id": "ar_D0WTWKT0r"
      },
      "source": [
        "!pip install transformers==3.5.1"
      ],
      "execution_count": null,
      "outputs": []
    },
    {
      "cell_type": "code",
      "metadata": {
        "id": "0koARK6yKYRy"
      },
      "source": [
        "!pip install natsort"
      ],
      "execution_count": null,
      "outputs": []
    },
    {
      "cell_type": "code",
      "metadata": {
        "id": "4sCNg55HKerJ"
      },
      "source": [
        "import warnings\r\n",
        "warnings.filterwarnings(\"ignore\")\r\n",
        "import sys\r\n",
        "sys.path.append(\"ru-gpts/gw\")\r\n",
        "from generation_wrapper import RuGPT3XL\r\n",
        "gpt = RuGPT3XL.from_pretrained(\"sberbank-ai/rugpt3xl\", seq_len=512)"
      ],
      "execution_count": null,
      "outputs": []
    },
    {
      "cell_type": "markdown",
      "metadata": {
        "id": "JG-tBMsTUDG7"
      },
      "source": [
        "# Запуск генерации"
      ]
    },
    {
      "cell_type": "markdown",
      "metadata": {
        "id": "jcQ_dKwNUJNV"
      },
      "source": [
        "Для того чтобы сгенерировать текст по ключу нужно заполнить файл \"keywords.csv\" - ключевыми словами и категорией WordPress, в которую будет добавлен пост. \r\n",
        "\r\n",
        "Скачайте файл \"drive/MyDrive/ru-gpts/ru-gpts/keywords.csv\", отредактируйте и залейте обратно.\r\n",
        "\r\n",
        "Кол-во текстов будет столько сколько заданий в файле \"keywords.csv\"\r\n",
        "\r\n",
        "Также в файле \"keywords.csv\" можно указать title будущего поста, но если не указать, то title сгенерируется из первых 60 символов поста\r\n",
        "\r\n",
        "Затем запускаем код ниже, который в папке \"drive/MyDrive/ru-gpts/ru-gpts/result/\" будет создавать текста"
      ]
    },
    {
      "cell_type": "code",
      "metadata": {
        "id": "vgQYaGVMOBR_"
      },
      "source": [
        "import os\r\n",
        "import csv\r\n",
        "import time\r\n",
        "import glob\r\n",
        "import json\r\n",
        "\r\n",
        "script_path = \"/content/drive/MyDrive/ru-gpts/ru-gpts\"\r\n",
        "max_count_attempt = 10\r\n",
        "min_lenght_text = 300\r\n",
        "\r\n",
        "def writeln(filename, str):\r\n",
        "    global script_path\r\n",
        "    with open(script_path + \"//\" + filename, 'w', encoding=\"utf-8\") as the_file:\r\n",
        "        the_file.write(str)\r\n",
        "\r\n",
        "if not os.path.exists(script_path + '//result'):\r\n",
        "    os.makedirs(script_path + '//result')\r\n",
        "files = glob.glob('ru-gpts/result/*')\r\n",
        "for f in files:\r\n",
        "    os.remove(f)\r\n",
        "\r\n",
        "print(time.strftime(\"%d.%m.%Y %H:%M:%S\") + \" Start\")\r\n",
        "\r\n",
        "with open(script_path + '/keywords.csv', newline='', encoding='utf-8') as csvfile:\r\n",
        "    spamreader = csv.reader(csvfile, delimiter=';', quotechar='|')\r\n",
        "    flag_first = False\r\n",
        "    i = 0\r\n",
        "    for row in spamreader:\r\n",
        "        if not flag_first:\r\n",
        "            flag_first = True\r\n",
        "            continue\r\n",
        "        i = i + 1\r\n",
        "        keyword = row[0]\r\n",
        "        text = \"\"\r\n",
        "        count_attempt = 0\r\n",
        "        continue_second = False\r\n",
        "        while text == \"\":\r\n",
        "            try:\r\n",
        "                count_attempt = count_attempt + 1\r\n",
        "                text = gpt.generate(\r\n",
        "                    text=keyword,\r\n",
        "                    do_sample=True,\r\n",
        "                    max_length=5000,\r\n",
        "                    no_repeat_ngram_size=3,\r\n",
        "                    repetition_penalty=2.,\r\n",
        "                )\r\n",
        "                text = text[0]\r\n",
        "                if len(text) < min_lenght_text:\r\n",
        "                    print(time.strftime(\"%d.%m.%Y %H:%M:%S\") + \" result\" + str(i) + \".txt Error: Lenght text less than \" + str(min_lenght_text) + \". Skip this text/keyword\")\r\n",
        "                    continue_second = True\r\n",
        "                    break\r\n",
        "            except Exception as e:\r\n",
        "                if count_attempt >= max_count_attempt:\r\n",
        "                    print(time.strftime(\"%d.%m.%Y %H:%M:%S\") + \" result\" + str(i) + \".txt Error: \" + str(e) + \" Count attempt: \" + str(count_attempt) + \". Skip this text/keyword\")\r\n",
        "                    continue_second = True\r\n",
        "                    break  \r\n",
        "                print(time.strftime(\"%d.%m.%Y %H:%M:%S\") + \" result\" + str(i) + \".txt Error: \" + str(e) + \" Count attempt: \" + str(count_attempt) + \". Next attempt\")\r\n",
        "        if continue_second:\r\n",
        "            continue\r\n",
        "      \r\n",
        "        text = text.replace(\"<|endoftext|>\", \"\")\r\n",
        "        text = os.linesep.join([s for s in text.splitlines() if s])\r\n",
        "        params = {}\r\n",
        "        params['category'] = row[1]                        \r\n",
        "        if row[2]:\r\n",
        "            params['title'] = row[2]\r\n",
        "        text = \"params=\" + json.dumps(params) + \"\\n\" + text\r\n",
        "        writeln(\"result//result\" + str(i) + \".txt\", text)\r\n",
        "        print(time.strftime(\"%d.%m.%Y %H:%M:%S\") + \" result\" + str(i) + \".txt Done\")\r\n",
        "\r\n"
      ],
      "execution_count": null,
      "outputs": []
    },
    {
      "cell_type": "markdown",
      "metadata": {
        "id": "7ePH43QyUPVN"
      },
      "source": [
        "Экспорт в CSV\r\n",
        "\r\n",
        "Результат будет в \"drive/MyDrive/ru-gpts/ru-gpts/export.csv\"\r\n",
        "\r\n",
        "Скачиваем \"export.csv\", устанавливаем в WordPress плагин \"WP All Import\" и импортируем файл export.csv"
      ]
    },
    {
      "cell_type": "code",
      "metadata": {
        "id": "tHjMugoHUYgn"
      },
      "source": [
        "!python3 ru-gpts/export_to_csv.py"
      ],
      "execution_count": 2,
      "outputs": []
    }
  ]
}